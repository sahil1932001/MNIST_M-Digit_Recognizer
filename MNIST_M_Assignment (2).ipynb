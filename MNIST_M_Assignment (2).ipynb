{
 "cells": [
  {
   "cell_type": "code",
   "execution_count": 45,
   "metadata": {
    "id": "Dbklykxrd_Wr"
   },
   "outputs": [],
   "source": [
    "# importing libraries\n",
    "import os\n",
    "import warnings\n",
    "\n",
    "import torch\n",
    "from PIL import Image\n",
    "from torchvision.datasets import VisionDataset\n",
    "from torchvision.datasets.utils import download_and_extract_archive"
   ]
  },
  {
   "cell_type": "code",
   "execution_count": 46,
   "metadata": {
    "id": "fn3skd5IeVoN"
   },
   "outputs": [],
   "source": [
    "class MNISTM(VisionDataset):\n",
    "    \"\"\"MNIST-M Dataset.\n",
    "    \"\"\"\n",
    "\n",
    "    resources = [\n",
    "        ('https://github.com/liyxi/mnist-m/releases/download/data/mnist_m_train.pt.tar.gz',\n",
    "         '191ed53db9933bd85cc9700558847391'),\n",
    "        ('https://github.com/liyxi/mnist-m/releases/download/data/mnist_m_test.pt.tar.gz',\n",
    "         'e11cb4d7fff76d7ec588b1134907db59')\n",
    "    ]\n",
    "\n",
    "    training_file = \"mnist_m_train.pt\"\n",
    "    test_file = \"mnist_m_test.pt\"\n",
    "    classes = ['0 - zero', '1 - one', '2 - two', '3 - three', '4 - four',\n",
    "               '5 - five', '6 - six', '7 - seven', '8 - eight', '9 - nine']\n",
    "\n",
    "    @property\n",
    "    def train_labels(self):\n",
    "        warnings.warn(\"train_labels has been renamed targets\")\n",
    "        return self.targets\n",
    "\n",
    "    @property\n",
    "    def test_labels(self):\n",
    "        warnings.warn(\"test_labels has been renamed targets\")\n",
    "        return self.targets\n",
    "\n",
    "    @property\n",
    "    def train_data(self):\n",
    "        warnings.warn(\"train_data has been renamed data\")\n",
    "        return self.data\n",
    "\n",
    "    @property\n",
    "    def test_data(self):\n",
    "        warnings.warn(\"test_data has been renamed data\")\n",
    "        return self.data\n",
    "\n",
    "    def __init__(self, root, train=True, transform=None, target_transform=None, download=False):\n",
    "        \"\"\"Init MNIST-M dataset.\"\"\"\n",
    "        super(MNISTM, self).__init__(root, transform=transform, target_transform=target_transform)\n",
    "\n",
    "        self.train = train\n",
    "\n",
    "        if download:\n",
    "            self.download()\n",
    "\n",
    "        if not self._check_exists():\n",
    "            raise RuntimeError(\"Dataset not found.\" +\n",
    "                               \" You can use download=True to download it\")\n",
    "\n",
    "        if self.train:\n",
    "            data_file = self.training_file\n",
    "        else:\n",
    "            data_file = self.test_file\n",
    "\n",
    "        print(os.path.join(self.processed_folder, data_file))\n",
    "\n",
    "        self.data, self.targets = torch.load(os.path.join(self.processed_folder, data_file))\n",
    "\n",
    "    def __getitem__(self, index):\n",
    "        \"\"\"Get images and target for data loader.\n",
    "        Args:\n",
    "            index (int): Index\n",
    "        Returns:\n",
    "            tuple: (image, target) where target is index of the target class.\n",
    "        \"\"\"\n",
    "        img, target = self.data[index], int(self.targets[index])\n",
    "\n",
    "        # doing this so that it is consistent with all other datasets\n",
    "        # to return a PIL Image\n",
    "        img = Image.fromarray(img.squeeze().numpy(), mode=\"RGB\")\n",
    "\n",
    "        if self.transform is not None:\n",
    "            img = self.transform(img)\n",
    "\n",
    "        if self.target_transform is not None:\n",
    "            target = self.target_transform(target)\n",
    "\n",
    "        return img, target\n",
    "\n",
    "    def __len__(self):\n",
    "        \"\"\"Return size of dataset.\"\"\"\n",
    "        return len(self.data)\n",
    "\n",
    "    @property\n",
    "    def raw_folder(self):\n",
    "        return os.path.join(self.root, self.__class__.__name__, 'raw')\n",
    "\n",
    "    @property\n",
    "    def processed_folder(self):\n",
    "        return os.path.join(self.root, self.__class__.__name__, 'processed')\n",
    "\n",
    "    @property\n",
    "    def class_to_idx(self):\n",
    "        return {_class: i for i, _class in enumerate(self.classes)}\n",
    "\n",
    "    def _check_exists(self):\n",
    "        return (os.path.exists(os.path.join(self.processed_folder, self.training_file)) and\n",
    "                os.path.exists(os.path.join(self.processed_folder, self.test_file)))\n",
    "\n",
    "    def download(self):\n",
    "        \"\"\"Download the MNIST-M data.\"\"\"\n",
    "\n",
    "        if self._check_exists():\n",
    "            return\n",
    "\n",
    "        os.makedirs(self.raw_folder, exist_ok=True)\n",
    "        os.makedirs(self.processed_folder, exist_ok=True)\n",
    "\n",
    "        # download files\n",
    "        for url, md5 in self.resources:\n",
    "            filename = url.rpartition('/')[2]\n",
    "            download_and_extract_archive(url, download_root=self.raw_folder,\n",
    "                                         extract_root=self.processed_folder,\n",
    "                                         filename=filename, md5=md5)\n",
    "\n",
    "        print('Done!')\n",
    "\n",
    "    def extra_repr(self):\n",
    "        return \"Split: {}\".format(\"Train\" if self.train is True else \"Test\")"
   ]
  },
  {
   "cell_type": "code",
   "execution_count": 47,
   "metadata": {
    "colab": {
     "base_uri": "https://localhost:8080/",
     "height": 0
    },
    "id": "jQpxalQDeVq1",
    "outputId": "c92487c4-4d5c-4b4f-c311-d481dbd486ec"
   },
   "outputs": [
    {
     "name": "stdout",
     "output_type": "stream",
     "text": [
      "./data/MNISTM/processed/mnist_m_train.pt\n"
     ]
    }
   ],
   "source": [
    "# loading trainset from MNISTM class\n",
    "mnistm_trainset = MNISTM(root='./data', train=True, download=True, transform=None)"
   ]
  },
  {
   "cell_type": "code",
   "execution_count": 48,
   "metadata": {
    "colab": {
     "base_uri": "https://localhost:8080/",
     "height": 0
    },
    "id": "hc89rumCeVtH",
    "outputId": "1a55ead9-60c2-437f-8d5c-ec89acab2ad6"
   },
   "outputs": [
    {
     "name": "stdout",
     "output_type": "stream",
     "text": [
      "./data/MNISTM/processed/mnist_m_test.pt\n"
     ]
    }
   ],
   "source": [
    "# loading testingset from MNISTM class\n",
    "mnistm_testset = MNISTM(root='./data', train=False, download=True, transform=None)"
   ]
  },
  {
   "cell_type": "code",
   "execution_count": 49,
   "metadata": {
    "colab": {
     "base_uri": "https://localhost:8080/",
     "height": 0
    },
    "id": "D-I8lPGreVvv",
    "outputId": "f71c35ba-7a93-4516-ab4c-b68ee8aa274a"
   },
   "outputs": [
    {
     "name": "stdout",
     "output_type": "stream",
     "text": [
      "Dataset MNISTM\n",
      "    Number of datapoints: 60000\n",
      "    Root location: ./data\n",
      "    Split: Train\n"
     ]
    }
   ],
   "source": [
    "print(mnistm_trainset)"
   ]
  },
  {
   "cell_type": "markdown",
   "metadata": {
    "id": "yi-N-Z3-akvc"
   },
   "source": [
    "##### There are total 60000 datapoints are there in training set"
   ]
  },
  {
   "cell_type": "code",
   "execution_count": 50,
   "metadata": {
    "colab": {
     "base_uri": "https://localhost:8080/",
     "height": 0
    },
    "id": "Gsrkq-ndeVyM",
    "outputId": "f572bf5c-1418-405a-8329-339e80c912ab"
   },
   "outputs": [
    {
     "name": "stdout",
     "output_type": "stream",
     "text": [
      "Dataset MNISTM\n",
      "    Number of datapoints: 10000\n",
      "    Root location: ./data\n",
      "    Split: Test\n"
     ]
    }
   ],
   "source": [
    "print(mnistm_testset)"
   ]
  },
  {
   "cell_type": "markdown",
   "metadata": {
    "id": "FIVvFyaea75Y"
   },
   "source": [
    "There are total 10000 datapoints are there in testing set"
   ]
  },
  {
   "cell_type": "code",
   "execution_count": 51,
   "metadata": {
    "colab": {
     "base_uri": "https://localhost:8080/",
     "height": 45
    },
    "id": "DvHfMQcFeV1E",
    "outputId": "83a54104-67fa-46c3-a613-fa76d1d9f5f5"
   },
   "outputs": [
    {
     "data": {
      "image/png": "[encoded data removed]",
      "text/plain": [
       "<PIL.Image.Image image mode=RGB size=28x28 at 0x7F82B4BACA90>"
      ]
     },
     "execution_count": 51,
     "metadata": {},
     "output_type": "execute_result"
    }
   ],
   "source": [
    "(mnistm_trainset[0][0])"
   ]
  },
  {
   "cell_type": "code",
   "execution_count": 52,
   "metadata": {
    "colab": {
     "base_uri": "https://localhost:8080/",
     "height": 0
    },
    "id": "7533RdFbeV3k",
    "outputId": "059e78cf-a2a8-4bb2-a168-dd8d8c3b4c5a"
   },
   "outputs": [
    {
     "data": {
      "text/plain": [
       "5"
      ]
     },
     "execution_count": 52,
     "metadata": {},
     "output_type": "execute_result"
    }
   ],
   "source": [
    "(mnistm_trainset[0][1])"
   ]
  },
  {
   "cell_type": "code",
   "execution_count": 53,
   "metadata": {
    "id": "I0G14exWeV6R"
   },
   "outputs": [],
   "source": [
    "import numpy as np"
   ]
  },
  {
   "cell_type": "code",
   "execution_count": 54,
   "metadata": {
    "id": "GOq5BUNKeV8u"
   },
   "outputs": [],
   "source": [
    "a = np.array(mnistm_trainset[1][0])"
   ]
  },
  {
   "cell_type": "code",
   "execution_count": 55,
   "metadata": {
    "colab": {
     "base_uri": "https://localhost:8080/",
     "height": 0
    },
    "id": "w9cs95kceV_Z",
    "outputId": "a556621a-03b6-4030-f273-282b42c6c23c"
   },
   "outputs": [
    {
     "name": "stdout",
     "output_type": "stream",
     "text": [
      "[[[255 208 153]\n",
      "  [255 207 151]\n",
      "  [255 205 150]\n",
      "  ...\n",
      "  [255 205 144]\n",
      "  [255 206 145]\n",
      "  [253 203 142]]\n",
      "\n",
      " [[255 208 152]\n",
      "  [253 206 150]\n",
      "  [253 206 150]\n",
      "  ...\n",
      "  [255 206 143]\n",
      "  [255 207 144]\n",
      "  [253 205 143]]\n",
      "\n",
      " [[255 206 150]\n",
      "  [253 206 150]\n",
      "  [254 207 151]\n",
      "  ...\n",
      "  [253 197 136]\n",
      "  [250 199 136]\n",
      "  [254 206 144]]\n",
      "\n",
      " ...\n",
      "\n",
      " [[255 198 144]\n",
      "  [255 193 141]\n",
      "  [255 191 139]\n",
      "  ...\n",
      "  [255 199 148]\n",
      "  [253 197 146]\n",
      "  [255 199 150]]\n",
      "\n",
      " [[255 207 150]\n",
      "  [255 205 148]\n",
      "  [253 202 145]\n",
      "  ...\n",
      "  [255 203 151]\n",
      "  [250 197 145]\n",
      "  [251 198 146]]\n",
      "\n",
      " [[255 205 148]\n",
      "  [255 208 150]\n",
      "  [255 207 149]\n",
      "  ...\n",
      "  [255 202 150]\n",
      "  [255 202 150]\n",
      "  [255 202 150]]]\n"
     ]
    }
   ],
   "source": [
    "print(a)"
   ]
  },
  {
   "cell_type": "markdown",
   "metadata": {
    "id": "aQCKWGoKbUJt"
   },
   "source": [
    "#### we want data in numpy array formate"
   ]
  },
  {
   "cell_type": "code",
   "execution_count": null,
   "metadata": {
    "id": "Nso5NeUibOb8"
   },
   "outputs": [],
   "source": []
  },
  {
   "cell_type": "code",
   "execution_count": 56,
   "metadata": {
    "id": "y0qySxGUeWBq"
   },
   "outputs": [],
   "source": [
    "x_train , y_train = [np.array(mnistm_trainset[i][0]) for i in range(60000)], [(mnistm_trainset[i][1]) for i in range(60000)]"
   ]
  },
  {
   "cell_type": "code",
   "execution_count": 57,
   "metadata": {
    "colab": {
     "base_uri": "https://localhost:8080/",
     "height": 0
    },
    "id": "ZDYDLs2heWEZ",
    "outputId": "2ed2cd28-1a04-40ac-9663-09e1a5e350da"
   },
   "outputs": [
    {
     "data": {
      "text/plain": [
       "(60000, 60000)"
      ]
     },
     "execution_count": 57,
     "metadata": {},
     "output_type": "execute_result"
    }
   ],
   "source": [
    "len(x_train),len(y_train)"
   ]
  },
  {
   "cell_type": "code",
   "execution_count": 58,
   "metadata": {
    "colab": {
     "base_uri": "https://localhost:8080/",
     "height": 0
    },
    "id": "yj7NN2_deWGx",
    "outputId": "e62e4052-8036-47a2-d72b-5b49e77b7063"
   },
   "outputs": [
    {
     "data": {
      "text/plain": [
       "list"
      ]
     },
     "execution_count": 58,
     "metadata": {},
     "output_type": "execute_result"
    }
   ],
   "source": [
    "type(x_train)"
   ]
  },
  {
   "cell_type": "code",
   "execution_count": 59,
   "metadata": {
    "id": "J9YU44QQeWJB"
   },
   "outputs": [],
   "source": [
    "x_train = np.array(x_train)"
   ]
  },
  {
   "cell_type": "code",
   "execution_count": 60,
   "metadata": {
    "colab": {
     "base_uri": "https://localhost:8080/",
     "height": 0
    },
    "id": "3hKwEgFKeWLJ",
    "outputId": "c85a655d-e7f0-42c7-8d0c-c58925ff0e45"
   },
   "outputs": [
    {
     "data": {
      "text/plain": [
       "(60000, 28, 28, 3)"
      ]
     },
     "execution_count": 60,
     "metadata": {},
     "output_type": "execute_result"
    }
   ],
   "source": [
    "x_train.shape"
   ]
  },
  {
   "cell_type": "markdown",
   "metadata": {
    "id": "xGoiScaIczko"
   },
   "source": [
    "##### As we can see image shape is 28*28 and channel is 3 because we have RGB formate"
   ]
  },
  {
   "cell_type": "code",
   "execution_count": 61,
   "metadata": {
    "id": "GE47KOJmgvJ9"
   },
   "outputs": [],
   "source": [
    "y_train = np.array(y_train)"
   ]
  },
  {
   "cell_type": "code",
   "execution_count": 62,
   "metadata": {
    "colab": {
     "base_uri": "https://localhost:8080/",
     "height": 0
    },
    "id": "nkO1v2obgplz",
    "outputId": "8c50fc1f-d4ed-45f5-97ef-71d81ef21af9"
   },
   "outputs": [
    {
     "data": {
      "text/plain": [
       "(60000,)"
      ]
     },
     "execution_count": 62,
     "metadata": {},
     "output_type": "execute_result"
    }
   ],
   "source": [
    "y_train.shape"
   ]
  },
  {
   "cell_type": "code",
   "execution_count": 63,
   "metadata": {
    "colab": {
     "base_uri": "https://localhost:8080/",
     "height": 0
    },
    "id": "msY0zHPWeWNF",
    "outputId": "a9e2a9ad-d48d-4537-d10c-e44e7759a5c0"
   },
   "outputs": [
    {
     "data": {
      "text/plain": [
       "array([[[[ 60,  77, 133],\n",
       "         [ 61,  78, 134],\n",
       "         [ 62,  79, 135],\n",
       "         ...,\n",
       "         [ 57,  76, 132],\n",
       "         [ 57,  76, 132],\n",
       "         [ 57,  77, 130]],\n",
       "\n",
       "        [[ 60,  77, 133],\n",
       "         [ 61,  78, 134],\n",
       "         [ 61,  78, 134],\n",
       "         ...,\n",
       "         [ 57,  76, 132],\n",
       "         [ 57,  76, 132],\n",
       "         [ 57,  76, 132]],\n",
       "\n",
       "        [[ 61,  78, 134],\n",
       "         [ 61,  78, 134],\n",
       "         [ 61,  78, 134],\n",
       "         ...,\n",
       "         [ 56,  75, 131],\n",
       "         [ 56,  75, 131],\n",
       "         [ 57,  76, 132]],\n",
       "\n",
       "        ...,\n",
       "\n",
       "        [[ 57,  76, 134],\n",
       "         [ 57,  77, 130],\n",
       "         [ 57,  77, 130],\n",
       "         ...,\n",
       "         [  6,  34,  35],\n",
       "         [  6,  35,  33],\n",
       "         [  7,  36,  32]],\n",
       "\n",
       "        [[ 58,  77, 135],\n",
       "         [ 58,  77, 133],\n",
       "         [ 57,  77, 130],\n",
       "         ...,\n",
       "         [  9,  37,  38],\n",
       "         [  8,  37,  35],\n",
       "         [  8,  37,  35]],\n",
       "\n",
       "        [[ 57,  73, 133],\n",
       "         [ 62,  78, 137],\n",
       "         [ 58,  75, 131],\n",
       "         ...,\n",
       "         [  8,  37,  33],\n",
       "         [  8,  37,  35],\n",
       "         [  8,  37,  35]]],\n",
       "\n",
       "\n",
       "       [[[255, 208, 153],\n",
       "         [255, 207, 151],\n",
       "         [255, 205, 150],\n",
       "         ...,\n",
       "         [255, 205, 144],\n",
       "         [255, 206, 145],\n",
       "         [253, 203, 142]],\n",
       "\n",
       "        [[255, 208, 152],\n",
       "         [253, 206, 150],\n",
       "         [253, 206, 150],\n",
       "         ...,\n",
       "         [255, 206, 143],\n",
       "         [255, 207, 144],\n",
       "         [253, 205, 143]],\n",
       "\n",
       "        [[255, 206, 150],\n",
       "         [253, 206, 150],\n",
       "         [254, 207, 151],\n",
       "         ...,\n",
       "         [253, 197, 136],\n",
       "         [250, 199, 136],\n",
       "         [254, 206, 144]],\n",
       "\n",
       "        ...,\n",
       "\n",
       "        [[255, 198, 144],\n",
       "         [255, 193, 141],\n",
       "         [255, 191, 139],\n",
       "         ...,\n",
       "         [255, 199, 148],\n",
       "         [253, 197, 146],\n",
       "         [255, 199, 150]],\n",
       "\n",
       "        [[255, 207, 150],\n",
       "         [255, 205, 148],\n",
       "         [253, 202, 145],\n",
       "         ...,\n",
       "         [255, 203, 151],\n",
       "         [250, 197, 145],\n",
       "         [251, 198, 146]],\n",
       "\n",
       "        [[255, 205, 148],\n",
       "         [255, 208, 150],\n",
       "         [255, 207, 149],\n",
       "         ...,\n",
       "         [255, 202, 150],\n",
       "         [255, 202, 150],\n",
       "         [255, 202, 150]]],\n",
       "\n",
       "\n",
       "       [[[ 68,  56,  42],\n",
       "         [116,  99,  83],\n",
       "         [155, 137, 117],\n",
       "         ...,\n",
       "         [239, 214,  88],\n",
       "         [238, 213,  86],\n",
       "         [240, 213,  82]],\n",
       "\n",
       "        [[111, 103,  90],\n",
       "         [ 87,  75,  59],\n",
       "         [ 95,  80,  61],\n",
       "         ...,\n",
       "         [231, 204,  91],\n",
       "         [233, 204,  87],\n",
       "         [233, 203,  81]],\n",
       "\n",
       "        [[118, 115, 106],\n",
       "         [108, 102,  90],\n",
       "         [ 79,  72,  56],\n",
       "         ...,\n",
       "         [235, 209, 112],\n",
       "         [221, 194,  89],\n",
       "         [222, 192,  80]],\n",
       "\n",
       "        ...,\n",
       "\n",
       "        [[ 60,  60,  60],\n",
       "         [ 60,  57,  52],\n",
       "         [ 59,  52,  44],\n",
       "         ...,\n",
       "         [ 91,  78,  46],\n",
       "         [120,  97,  55],\n",
       "         [159, 130,  72]],\n",
       "\n",
       "        [[ 63,  62,  60],\n",
       "         [ 59,  54,  50],\n",
       "         [ 57,  50,  42],\n",
       "         ...,\n",
       "         [115,  92,  58],\n",
       "         [140, 109,  63],\n",
       "         [164, 133,  68]],\n",
       "\n",
       "        [[ 68,  63,  59],\n",
       "         [ 62,  55,  49],\n",
       "         [ 62,  51,  45],\n",
       "         ...,\n",
       "         [113,  89,  51],\n",
       "         [137, 107,  55],\n",
       "         [171, 141,  71]]],\n",
       "\n",
       "\n",
       "       [[[ 49,  44,  15],\n",
       "         [ 50,  45,  16],\n",
       "         [ 50,  45,  16],\n",
       "         ...,\n",
       "         [164, 142,  82],\n",
       "         [172, 144,  81],\n",
       "         [175, 144,  79]],\n",
       "\n",
       "        [[ 55,  50,  21],\n",
       "         [ 54,  49,  20],\n",
       "         [ 54,  49,  20],\n",
       "         ...,\n",
       "         [169, 143,  82],\n",
       "         [174, 144,  80],\n",
       "         [177, 146,  79]],\n",
       "\n",
       "        [[ 60,  57,  26],\n",
       "         [ 57,  54,  23],\n",
       "         [ 60,  57,  26],\n",
       "         ...,\n",
       "         [170, 142,  79],\n",
       "         [175, 144,  79],\n",
       "         [177, 144,  77]],\n",
       "\n",
       "        ...,\n",
       "\n",
       "        [[206, 178,  94],\n",
       "         [203, 172,  89],\n",
       "         [197, 165,  80],\n",
       "         ...,\n",
       "         [189, 156,  77],\n",
       "         [186, 150,  72],\n",
       "         [183, 145,  70]],\n",
       "\n",
       "        [[209, 181,  97],\n",
       "         [205, 174,  91],\n",
       "         [199, 169,  83],\n",
       "         ...,\n",
       "         [191, 158,  79],\n",
       "         [186, 150,  72],\n",
       "         [182, 144,  69]],\n",
       "\n",
       "        [[209, 181,  98],\n",
       "         [204, 176,  92],\n",
       "         [200, 169,  86],\n",
       "         ...,\n",
       "         [194, 159,  78],\n",
       "         [199, 162,  84],\n",
       "         [193, 156,  78]]],\n",
       "\n",
       "\n",
       "       [[[ 70,  79,  84],\n",
       "         [ 69,  78,  83],\n",
       "         [ 70,  79,  84],\n",
       "         ...,\n",
       "         [ 62,  70,  73],\n",
       "         [ 62,  70,  73],\n",
       "         [ 62,  70,  73]],\n",
       "\n",
       "        [[ 68,  77,  82],\n",
       "         [ 67,  76,  81],\n",
       "         [ 68,  77,  82],\n",
       "         ...,\n",
       "         [ 61,  69,  72],\n",
       "         [ 60,  68,  71],\n",
       "         [ 60,  68,  71]],\n",
       "\n",
       "        [[ 67,  76,  81],\n",
       "         [ 65,  74,  79],\n",
       "         [ 65,  74,  79],\n",
       "         ...,\n",
       "         [ 58,  66,  69],\n",
       "         [ 58,  66,  69],\n",
       "         [ 57,  65,  68]],\n",
       "\n",
       "        ...,\n",
       "\n",
       "        [[ 46,  55,  54],\n",
       "         [ 46,  55,  54],\n",
       "         [ 46,  55,  54],\n",
       "         ...,\n",
       "         [ 55,  61,  61],\n",
       "         [ 56,  62,  62],\n",
       "         [ 55,  61,  61]],\n",
       "\n",
       "        [[ 47,  56,  55],\n",
       "         [ 47,  56,  55],\n",
       "         [ 47,  56,  55],\n",
       "         ...,\n",
       "         [ 56,  62,  62],\n",
       "         [ 56,  62,  62],\n",
       "         [ 56,  62,  62]],\n",
       "\n",
       "        [[ 50,  59,  58],\n",
       "         [ 49,  58,  57],\n",
       "         [ 49,  58,  57],\n",
       "         ...,\n",
       "         [ 58,  64,  64],\n",
       "         [ 57,  63,  63],\n",
       "         [ 58,  64,  64]]]], dtype=uint8)"
      ]
     },
     "execution_count": 63,
     "metadata": {},
     "output_type": "execute_result"
    }
   ],
   "source": [
    "x_train[0:5]"
   ]
  },
  {
   "cell_type": "code",
   "execution_count": 64,
   "metadata": {
    "colab": {
     "base_uri": "https://localhost:8080/",
     "height": 0
    },
    "id": "e85_W6yUeWPB",
    "outputId": "ed2ec26b-012f-4f50-a0ea-40b70c234c96"
   },
   "outputs": [
    {
     "data": {
      "text/plain": [
       "numpy.ndarray"
      ]
     },
     "execution_count": 64,
     "metadata": {},
     "output_type": "execute_result"
    }
   ],
   "source": [
    "type(x_train)"
   ]
  },
  {
   "cell_type": "code",
   "execution_count": 65,
   "metadata": {
    "id": "I_rUEH_8eWQy"
   },
   "outputs": [],
   "source": [
    "x_test , y_test = [np.array(mnistm_testset[i][0]) for i in range(10000)], [(mnistm_testset[i][1]) for i in range(10000)]"
   ]
  },
  {
   "cell_type": "code",
   "execution_count": 66,
   "metadata": {
    "colab": {
     "base_uri": "https://localhost:8080/",
     "height": 0
    },
    "id": "116qHhQzeWUC",
    "outputId": "215f1023-223c-417b-d23b-0bcffe6e5d48"
   },
   "outputs": [
    {
     "data": {
      "text/plain": [
       "10000"
      ]
     },
     "execution_count": 66,
     "metadata": {},
     "output_type": "execute_result"
    }
   ],
   "source": [
    "len(x_test)"
   ]
  },
  {
   "cell_type": "code",
   "execution_count": 67,
   "metadata": {
    "colab": {
     "base_uri": "https://localhost:8080/",
     "height": 0
    },
    "id": "xNNxX8GNeWWG",
    "outputId": "99086987-ad20-4e39-c2cc-89a7fd7e8a0d"
   },
   "outputs": [
    {
     "data": {
      "text/plain": [
       "list"
      ]
     },
     "execution_count": 67,
     "metadata": {},
     "output_type": "execute_result"
    }
   ],
   "source": [
    "type(x_test)"
   ]
  },
  {
   "cell_type": "code",
   "execution_count": 68,
   "metadata": {
    "id": "VT2a5Z-TeWYJ"
   },
   "outputs": [],
   "source": [
    "x_test = np.array(x_test)\n",
    "y_test = np.array(y_test)"
   ]
  },
  {
   "cell_type": "code",
   "execution_count": 69,
   "metadata": {
    "colab": {
     "base_uri": "https://localhost:8080/",
     "height": 0
    },
    "id": "Lqv5Qc-aeWam",
    "outputId": "75d41d3b-da37-4f57-b354-f53c135ac21a"
   },
   "outputs": [
    {
     "data": {
      "text/plain": [
       "numpy.ndarray"
      ]
     },
     "execution_count": 69,
     "metadata": {},
     "output_type": "execute_result"
    }
   ],
   "source": [
    "type(x_test)"
   ]
  },
  {
   "cell_type": "code",
   "execution_count": 70,
   "metadata": {
    "colab": {
     "base_uri": "https://localhost:8080/",
     "height": 0
    },
    "id": "H5OZZ20fhMMs",
    "outputId": "0989d3db-e5b2-4839-aec3-798c8f38a102"
   },
   "outputs": [
    {
     "data": {
      "text/plain": [
       "(10000, 28, 28, 3)"
      ]
     },
     "execution_count": 70,
     "metadata": {},
     "output_type": "execute_result"
    }
   ],
   "source": [
    "x_test.shape"
   ]
  },
  {
   "cell_type": "code",
   "execution_count": 71,
   "metadata": {
    "colab": {
     "base_uri": "https://localhost:8080/",
     "height": 303
    },
    "id": "dYD3sJ9EhMPI",
    "outputId": "cf7ed6fa-b200-463b-c35c-90339751da44"
   },
   "outputs": [
    {
     "name": "stdout",
     "output_type": "stream",
     "text": [
      "train: X=(60000, 28, 28, 3),y=(60000,)\n",
      "train: X=(10000, 28, 28, 3),y=(10000,)\n"
     ]
    },
    {
     "data": {
      "image/png": "[encoded data removed]",
      "text/plain": [
       "<Figure size 432x288 with 9 Axes>"
      ]
     },
     "metadata": {
      "needs_background": "light"
     },
     "output_type": "display_data"
    }
   ],
   "source": [
    "import matplotlib.pyplot as plt\n",
    "print('train: X=%s,y=%s' % (x_train.shape,y_train.shape))\n",
    "print('train: X=%s,y=%s' % (x_test.shape,y_test.shape))\n",
    "for i in range(9):\n",
    "  plt.subplot(3,3,i+1)\n",
    "  plt.imshow(x_train[i],cmap = plt.get_cmap('gray'))\n",
    "plt.show()"
   ]
  },
  {
   "cell_type": "code",
   "execution_count": 72,
   "metadata": {
    "id": "my2ykP_yhMSC"
   },
   "outputs": [],
   "source": [
    "# reshaping x_train and x_test and normalizing it by dividing 255 because the range is from 0 to 255\n",
    "\n",
    "x_train = x_train.reshape((60000,28,28,3))\n",
    "x_train = x_train.astype('float32')/255\n",
    "\n",
    "x_test = x_test.reshape((10000,28,28,3))\n",
    "x_test = x_test.astype('float32')/255\n",
    "\n",
    "from keras.utils import to_categorical\n",
    "\n",
    "y_train = to_categorical(y_train)\n",
    "y_test = to_categorical(y_test)\n"
   ]
  },
  {
   "cell_type": "code",
   "execution_count": null,
   "metadata": {
    "id": "NkacQg3vhMUm"
   },
   "outputs": [],
   "source": [
    "x_train"
   ]
  },
  {
   "cell_type": "code",
   "execution_count": 74,
   "metadata": {
    "colab": {
     "base_uri": "https://localhost:8080/",
     "height": 0
    },
    "id": "hj8qPaPChMXX",
    "outputId": "5ba929fc-6393-41a4-8c95-932c2a83de29"
   },
   "outputs": [
    {
     "name": "stdout",
     "output_type": "stream",
     "text": [
      "Model: \"sequential_1\"\n",
      "_________________________________________________________________\n",
      " Layer (type)                Output Shape              Param #   \n",
      "=================================================================\n",
      " conv2d_2 (Conv2D)           (None, 26, 26, 32)        896       \n",
      "                                                                 \n",
      " max_pooling2d_2 (MaxPooling  (None, 13, 13, 32)       0         \n",
      " 2D)                                                             \n",
      "                                                                 \n",
      " conv2d_3 (Conv2D)           (None, 11, 11, 64)        18496     \n",
      "                                                                 \n",
      " max_pooling2d_3 (MaxPooling  (None, 5, 5, 64)         0         \n",
      " 2D)                                                             \n",
      "                                                                 \n",
      " dropout_1 (Dropout)         (None, 5, 5, 64)          0         \n",
      "                                                                 \n",
      " flatten_1 (Flatten)         (None, 1600)              0         \n",
      "                                                                 \n",
      " dense_2 (Dense)             (None, 128)               204928    \n",
      "                                                                 \n",
      " dense_3 (Dense)             (None, 10)                1290      \n",
      "                                                                 \n",
      "=================================================================\n",
      "Total params: 225,610\n",
      "Trainable params: 225,610\n",
      "Non-trainable params: 0\n",
      "_________________________________________________________________\n"
     ]
    }
   ],
   "source": [
    "from keras import layers\n",
    "from keras import models\n",
    "from keras.utils import plot_model\n",
    "\n",
    "model = models.Sequential()\n",
    "model.add(layers.Conv2D(32,(3,3), activation='relu', input_shape = (28,28,3)))\n",
    "model.add(layers.MaxPooling2D((2,2)))\n",
    "model.add(layers.Conv2D(64,(3,3), activation='relu'))\n",
    "model.add(layers.MaxPooling2D((2,2)))\n",
    "model.add(layers.Dropout(0.5))\n",
    "model.add(layers.Flatten())\n",
    "model.add(layers.Dense(128,activation = 'relu'))\n",
    "model.add(layers.Dense(10, activation= 'softmax'))\n",
    "\n",
    "model.summary()"
   ]
  },
  {
   "cell_type": "code",
   "execution_count": 75,
   "metadata": {
    "colab": {
     "base_uri": "https://localhost:8080/",
     "height": 976
    },
    "id": "7-eyKN7qQhxA",
    "outputId": "c088bbc6-c84c-4dd1-cc07-6dce786cf6fb"
   },
   "outputs": [
    {
     "data": {
      "image/jpeg": "[encoded data removed]",
      "text/plain": [
       "<IPython.core.display.Image object>"
      ]
     },
     "execution_count": 75,
     "metadata": {},
     "output_type": "execute_result"
    }
   ],
   "source": [
    "plot_model(model,'model.jpg',show_shapes = True)"
   ]
  },
  {
   "cell_type": "code",
   "execution_count": 76,
   "metadata": {
    "id": "8AkRhMEPhMZZ"
   },
   "outputs": [],
   "source": [
    "model.compile(optimizer = 'adam',\n",
    "             loss = 'categorical_crossentropy',\n",
    "             metrics = ['accuracy'])\n"
   ]
  },
  {
   "cell_type": "code",
   "execution_count": 77,
   "metadata": {
    "colab": {
     "base_uri": "https://localhost:8080/",
     "height": 0
    },
    "id": "JXuChGQXhMbg",
    "outputId": "934ca9a1-1ca5-49ab-cbbc-4ee02d443c9c"
   },
   "outputs": [
    {
     "name": "stdout",
     "output_type": "stream",
     "text": [
      "Epoch 1/10\n",
      "469/469 [==============================] - 59s 124ms/step - loss: 0.7551 - accuracy: 0.7626\n",
      "Epoch 2/10\n",
      "469/469 [==============================] - 56s 120ms/step - loss: 0.3030 - accuracy: 0.9091\n",
      "Epoch 3/10\n",
      "469/469 [==============================] - 55s 117ms/step - loss: 0.2376 - accuracy: 0.9274\n",
      "Epoch 4/10\n",
      "469/469 [==============================] - 54s 116ms/step - loss: 0.1994 - accuracy: 0.9373\n",
      "Epoch 5/10\n",
      "469/469 [==============================] - 54s 116ms/step - loss: 0.1711 - accuracy: 0.9467\n",
      "Epoch 6/10\n",
      "469/469 [==============================] - 54s 116ms/step - loss: 0.1570 - accuracy: 0.9514\n",
      "Epoch 7/10\n",
      "469/469 [==============================] - 55s 116ms/step - loss: 0.1378 - accuracy: 0.9566\n",
      "Epoch 8/10\n",
      "469/469 [==============================] - 54s 116ms/step - loss: 0.1258 - accuracy: 0.9601\n",
      "Epoch 9/10\n",
      "469/469 [==============================] - 55s 117ms/step - loss: 0.1169 - accuracy: 0.9631\n",
      "Epoch 10/10\n",
      "469/469 [==============================] - 54s 116ms/step - loss: 0.1081 - accuracy: 0.9654\n"
     ]
    }
   ],
   "source": [
    "History = model.fit(x_train, y_train, epochs=10, batch_size = 128)"
   ]
  },
  {
   "cell_type": "code",
   "execution_count": 78,
   "metadata": {
    "id": "zKWWMRQRWCgB"
   },
   "outputs": [],
   "source": [
    "History.model.save('MNIST-M.h5')"
   ]
  },
  {
   "cell_type": "code",
   "execution_count": 79,
   "metadata": {
    "colab": {
     "base_uri": "https://localhost:8080/",
     "height": 0
    },
    "id": "CrM7YnxxhMdY",
    "outputId": "43acad82-0943-4f58-84f6-d84fb5dfceed"
   },
   "outputs": [
    {
     "name": "stdout",
     "output_type": "stream",
     "text": [
      "Accuarcy: 97.3800003528595\n",
      "Loss: 0.09118831157684326\n"
     ]
    }
   ],
   "source": [
    "loss,accuracy = model.evaluate(x_test, y_test,verbose = 0)\n",
    "print(f'Accuarcy: {accuracy*100}')\n",
    "print(f'Loss: {loss}')\n"
   ]
  },
  {
   "cell_type": "code",
   "execution_count": 81,
   "metadata": {
    "colab": {
     "base_uri": "https://localhost:8080/",
     "height": 0
    },
    "id": "M7aLAOLNhMgk",
    "outputId": "87071217-878b-49e1-acc0-41f179db8bcb"
   },
   "outputs": [
    {
     "name": "stdout",
     "output_type": "stream",
     "text": [
      "1\n"
     ]
    }
   ],
   "source": [
    "prediction = model.predict(x_test,verbose = 0)\n",
    "print(np.argmax(np.round(prediction[40])))"
   ]
  },
  {
   "cell_type": "code",
   "execution_count": 82,
   "metadata": {
    "colab": {
     "base_uri": "https://localhost:8080/",
     "height": 265
    },
    "id": "TIvUOmzEn-5Q",
    "outputId": "e64d07f6-7eea-4d3c-ed07-4026d4ca1186"
   },
   "outputs": [
    {
     "data": {
      "image/png": "[encoded data removed]",
      "text/plain": [
       "<Figure size 432x288 with 1 Axes>"
      ]
     },
     "metadata": {
      "needs_background": "light"
     },
     "output_type": "display_data"
    }
   ],
   "source": [
    "import matplotlib.pyplot as plt\n",
    "plt.imshow(x_test[40])\n",
    "plt.show()\n"
   ]
  }
 ],
 "metadata": {
  "accelerator": "TPU",
  "colab": {
   "provenance": []
  },
  "gpuClass": "standard",
  "kernelspec": {
   "display_name": "Python 3 (ipykernel)",
   "language": "python",
   "name": "python3"
  },
  "language_info": {
   "codemirror_mode": {
    "name": "ipython",
    "version": 3
   },
   "file_extension": ".py",
   "mimetype": "text/x-python",
   "name": "python",
   "nbconvert_exporter": "python",
   "pygments_lexer": "ipython3",
   "version": "3.9.12"
  }
 },
 "nbformat": 4,
 "nbformat_minor": 1
}
